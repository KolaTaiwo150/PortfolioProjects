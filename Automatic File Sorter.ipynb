{
 "cells": [
  {
   "cell_type": "markdown",
   "id": "9e943be7-62bd-4a8f-813f-12b99e897a7f",
   "metadata": {},
   "source": [
    "# Automatic File Sorter in File Explorer"
   ]
  },
  {
   "cell_type": "code",
   "execution_count": 47,
   "id": "97e6a783-001d-4c67-80b0-8b47d273a82a",
   "metadata": {},
   "outputs": [],
   "source": [
    "import os, shutil"
   ]
  },
  {
   "cell_type": "code",
   "execution_count": 48,
   "id": "59db0711-2b12-4525-a4da-f41b7494d373",
   "metadata": {},
   "outputs": [],
   "source": [
    "path = r\"C:/Users/Administrator/Documents/Python Tutorial/\""
   ]
  },
  {
   "cell_type": "code",
   "execution_count": 50,
   "id": "3155fc74-ddf1-430e-942f-d00be2391717",
   "metadata": {},
   "outputs": [],
   "source": [
    "file_name = os.listdir(path)"
   ]
  },
  {
   "cell_type": "code",
   "execution_count": 51,
   "id": "9256018f-d0ba-40b3-82e6-0cfb865ecdec",
   "metadata": {},
   "outputs": [],
   "source": [
    "folder_names = ['Excel files', 'Image files','Power BI files', 'SQL files']\n",
    "\n",
    "for loop in range(0,4):\n",
    "    if not os.path.exists(path + folder_names[loop]):\n",
    "        os.makedirs((path + folder_names[loop]))\n",
    "\n",
    "for file in file_name:\n",
    "    if \".xlsx\" in file and not os.path.exists(path + \"Excel files/\" + file):\n",
    "        shutil.move(path + file, path + \"Excel files/\" + file)\n",
    "    elif \".pbix\" in file and not os.path.exists(path + \"Power BI files/\" + file):\n",
    "        shutil.move(path + file, path + \"Power BI files/\" + file)\n",
    "    elif \".sql\" in file and not os.path.exists(path + \"SQL files/\" + file):\n",
    "        shutil.move(path + file, path + \"SQL files/\" + file)\n",
    "    elif \".png\" in file and not os.path.exists(path + \"Image files/\" + file):\n",
    "        shutil.move(path + file, path + \"Image files/\" + file)"
   ]
  }
 ],
 "metadata": {
  "kernelspec": {
   "display_name": "Python 3 (ipykernel)",
   "language": "python",
   "name": "python3"
  },
  "language_info": {
   "codemirror_mode": {
    "name": "ipython",
    "version": 3
   },
   "file_extension": ".py",
   "mimetype": "text/x-python",
   "name": "python",
   "nbconvert_exporter": "python",
   "pygments_lexer": "ipython3",
   "version": "3.12.7"
  }
 },
 "nbformat": 4,
 "nbformat_minor": 5
}
