{
 "cells": [
  {
   "cell_type": "markdown",
   "id": "e4949b97-448d-4a7d-bc46-248c67b927ac",
   "metadata": {},
   "source": [
    "# BMI Calculator"
   ]
  },
  {
   "cell_type": "code",
   "execution_count": 2,
   "id": "911e811d-c477-421f-b1b9-b89c7675cb07",
   "metadata": {},
   "outputs": [
    {
     "name": "stdin",
     "output_type": "stream",
     "text": [
      "Enter your name:  Kola\n",
      "Enter you weight in pounds:  165\n",
      "Enter you height in inches:  72\n"
     ]
    },
    {
     "name": "stdout",
     "output_type": "stream",
     "text": [
      "22.375578703703702\n",
      "Kola, your BMI is in the healthy category.\n"
     ]
    }
   ],
   "source": [
    "# BMI = (weight in pounds x 703) / (height in inches x height in inches)\n",
    "\n",
    "name = input(\"Enter your name: \")\n",
    "\n",
    "weight = int(input(\"Enter you weight in pounds: \"))\n",
    "\n",
    "height = int(input(\"Enter you height in inches: \"))\n",
    "\n",
    "BMI = (weight * 703) / (height * height)\n",
    "\n",
    "print(BMI)\n",
    "\n",
    "if BMI > 0:\n",
    "    if(BMI < 18.5):\n",
    "        print(name + \", your BMI is in the underweight category.\")\n",
    "    elif(BMI <= 24.9):\n",
    "        print(name + \", your BMI is in the healthy category.\")\n",
    "    elif(BMI <= 29.9):\n",
    "        print(name + \", your BMI is in the overweight category.\")\n",
    "    elif(BMI <= 34.9):\n",
    "        print(name + \", your BMI is in the obese category.\")\n",
    "    elif(BMI <= 39.9):\n",
    "        print(name + \", your BMI is in the severely obese category.\")\n",
    "    elif(BMI >= 40):\n",
    "        print(name + \", your BMI is in the morbidly obese category.\")\n",
    "    else:\n",
    "        print(\"Enter valid input\")"
   ]
  },
  {
   "cell_type": "code",
   "execution_count": null,
   "id": "a867e466-20a5-4bf6-8372-a9ed05df8ec1",
   "metadata": {},
   "outputs": [],
   "source": []
  }
 ],
 "metadata": {
  "kernelspec": {
   "display_name": "Python 3 (ipykernel)",
   "language": "python",
   "name": "python3"
  },
  "language_info": {
   "codemirror_mode": {
    "name": "ipython",
    "version": 3
   },
   "file_extension": ".py",
   "mimetype": "text/x-python",
   "name": "python",
   "nbconvert_exporter": "python",
   "pygments_lexer": "ipython3",
   "version": "3.12.7"
  }
 },
 "nbformat": 4,
 "nbformat_minor": 5
}
